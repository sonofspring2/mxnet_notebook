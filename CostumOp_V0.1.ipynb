{
 "cells": [
  {
   "cell_type": "code",
   "execution_count": 9,
   "metadata": {
    "collapsed": true
   },
   "outputs": [],
   "source": [
    "# set multi print in one cell \n",
    "from IPython.core.interactiveshell import InteractiveShell\n",
    "InteractiveShell.ast_node_interactivity = \"all\""
   ]
  },
  {
   "cell_type": "code",
   "execution_count": 85,
   "metadata": {
    "collapsed": true
   },
   "outputs": [],
   "source": [
    "import mxnet as mx\n",
    "import numpy as np \n",
    "from pprint import pprint "
   ]
  },
  {
   "cell_type": "code",
   "execution_count": 2,
   "metadata": {
    "collapsed": true
   },
   "outputs": [],
   "source": [
    "import numpy as np\n",
    "import os\n",
    "import urllib\n",
    "import gzip\n",
    "import struct\n",
    "def download_data(url, force_download=True): \n",
    "    fname = url.split(\"/\")[-1]\n",
    "    if force_download or not os.path.exists(fname):\n",
    "        urllib.urlretrieve(url, fname)\n",
    "    return fname\n",
    "\n",
    "def read_data(label_url, image_url):\n",
    "    with gzip.open(download_data(label_url)) as flbl:\n",
    "        magic, num = struct.unpack(\">II\", flbl.read(8))\n",
    "        label = np.fromstring(flbl.read(), dtype=np.int8)\n",
    "    with gzip.open(download_data(image_url), 'rb') as fimg:\n",
    "        magic, num, rows, cols = struct.unpack(\">IIII\", fimg.read(16))\n",
    "        image = np.fromstring(fimg.read(), dtype=np.uint8).reshape(len(label), rows, cols)\n",
    "    return (label, image)\n",
    "\n",
    "path='http://yann.lecun.com/exdb/mnist/'\n",
    "(train_lbl, train_img) = read_data(\n",
    "    path+'train-labels-idx1-ubyte.gz', path+'train-images-idx3-ubyte.gz')\n",
    "(val_lbl, val_img) = read_data(\n",
    "    path+'t10k-labels-idx1-ubyte.gz', path+'t10k-images-idx3-ubyte.gz')"
   ]
  },
  {
   "cell_type": "code",
   "execution_count": 115,
   "metadata": {
    "collapsed": false
   },
   "outputs": [
    {
     "name": "stdout",
     "output_type": "stream",
     "text": [
      "(60000,)\n"
     ]
    }
   ],
   "source": [
    "def to4d(img):\n",
    "    return img.reshape(img.shape[0], 1, 28, 28).astype(np.float32)/255\n",
    "\n",
    "def oneHot(labels, num_class = 10):\n",
    "    ret = np.zeros((labels.shape[0], num_class))\n",
    "    ind = labels\n",
    "    ret[np.arange(labels.shape[0]) ,ind] = 1\n",
    "    return  ret \n",
    "\n",
    "train_label= oneHot(train_lbl)\n",
    "val_label = oneHot(val_lbl)\n",
    "\n",
    "batch_size = 25\n",
    "train_iter = mx.io.NDArrayIter(to4d(train_img), train_label, batch_size, shuffle=True, label_name = 'label')\n",
    "val_iter = mx.io.NDArrayIter(to4d(val_img), val_label, batch_size, label_name='label')\n",
    "\n",
    "train_iter2 = mx.io.NDArrayIter(to4d(train_img), train_label, batch_size, shuffle=True, label_name = 'label')\n",
    "val_iter2 = mx.io.NDArrayIter(to4d(val_img), val_label, batch_size, label_name='label')\n",
    "\n",
    "pprint(train_lbl.shape)"
   ]
  },
  {
   "cell_type": "code",
   "execution_count": 116,
   "metadata": {
    "collapsed": false
   },
   "outputs": [
    {
     "name": "stdout",
     "output_type": "stream",
     "text": [
      "array([[ 0.,  0.,  0.,  0.,  0.,  1.,  0.,  0.,  0.,  0.],\n",
      "       [ 1.,  0.,  0.,  0.,  0.,  0.,  0.,  0.,  0.,  0.],\n",
      "       [ 0.,  0.,  0.,  0.,  1.,  0.,  0.,  0.,  0.,  0.],\n",
      "       [ 0.,  1.,  0.,  0.,  0.,  0.,  0.,  0.,  0.,  0.],\n",
      "       [ 0.,  0.,  0.,  0.,  0.,  0.,  0.,  0.,  0.,  1.],\n",
      "       [ 0.,  0.,  1.,  0.,  0.,  0.,  0.,  0.,  0.,  0.],\n",
      "       [ 0.,  1.,  0.,  0.,  0.,  0.,  0.,  0.,  0.,  0.],\n",
      "       [ 0.,  0.,  0.,  1.,  0.,  0.,  0.,  0.,  0.,  0.],\n",
      "       [ 0.,  1.,  0.,  0.,  0.,  0.,  0.,  0.,  0.,  0.],\n",
      "       [ 0.,  0.,  0.,  0.,  1.,  0.,  0.,  0.,  0.,  0.]])\n"
     ]
    }
   ],
   "source": [
    "pprint(train_label[0:10])"
   ]
  },
  {
   "cell_type": "code",
   "execution_count": 117,
   "metadata": {
    "collapsed": false
   },
   "outputs": [
    {
     "data": {
      "text/plain": [
       "[('data', <NDArray 60000x1x28x28 @cpu(0)>)]"
      ]
     },
     "execution_count": 117,
     "metadata": {},
     "output_type": "execute_result"
    },
    {
     "data": {
      "text/plain": [
       "[('label', <NDArray 60000x10 @cpu(0)>)]"
      ]
     },
     "execution_count": 117,
     "metadata": {},
     "output_type": "execute_result"
    },
    {
     "data": {
      "text/plain": [
       "[DataDesc[data,(25, 1L, 28L, 28L),<type 'numpy.float32'>,NCHW]]"
      ]
     },
     "execution_count": 117,
     "metadata": {},
     "output_type": "execute_result"
    },
    {
     "data": {
      "text/plain": [
       "[DataDesc[label,(25, 10L),<type 'numpy.float32'>,NCHW]]"
      ]
     },
     "execution_count": 117,
     "metadata": {},
     "output_type": "execute_result"
    }
   ],
   "source": [
    "train_iter.data\n",
    "train_iter.label\n",
    "train_iter.provide_data\n",
    "train_iter.provide_label"
   ]
  },
  {
   "cell_type": "code",
   "execution_count": 118,
   "metadata": {
    "collapsed": false
   },
   "outputs": [
    {
     "data": {
      "text/plain": [
       "[<NDArray 25x1x28x28 @cpu(0)>]"
      ]
     },
     "execution_count": 118,
     "metadata": {},
     "output_type": "execute_result"
    },
    {
     "data": {
      "text/plain": [
       "[<NDArray 25x10 @cpu(0)>]"
      ]
     },
     "execution_count": 118,
     "metadata": {},
     "output_type": "execute_result"
    }
   ],
   "source": [
    "batch = train_iter.next()\n",
    "batch.data\n",
    "batch.label\n",
    "train_iter.reset()"
   ]
  },
  {
   "cell_type": "code",
   "execution_count": 119,
   "metadata": {
    "collapsed": false
   },
   "outputs": [],
   "source": [
    "# create symbol \n",
    "def get_sym(num_class = 10):\n",
    "    data = mx.sym.Variable('data')\n",
    "    label = mx.sym.Variable('label')\n",
    "    conv1 = mx.sym.Convolution(data = data, kernel = (3,3), num_filter = 16, pad = (1,1),name='conv1')\n",
    "    acti = mx.sym.Activation(data= conv1, act_type = 'relu',name='act1')\n",
    "    fc1 = mx.sym.FullyConnected(data=acti, num_hidden = 10, name='fc1' )\n",
    "    fc2 = mx.sym.FullyConnected(data=fc1,num_hidden =1, name='fc2')\n",
    "    err = (fc2 - label) **2\n",
    "    loss = mx.sym.MakeLoss(data = err, name= 'loss')\n",
    "    net = loss\n",
    "    \n",
    "    return net  "
   ]
  },
  {
   "cell_type": "code",
   "execution_count": 121,
   "metadata": {
    "collapsed": false
   },
   "outputs": [
    {
     "name": "stdout",
     "output_type": "stream",
     "text": [
      "[('data', (25L, 3L, 28L, 28L)),\n",
      " ('conv1_weight', (16L, 3L, 3L, 3L)),\n",
      " ('conv1_bias', (16L,)),\n",
      " ('conv1_output', (25L, 16L, 28L, 28L)),\n",
      " ('act1_output', (25L, 16L, 28L, 28L)),\n",
      " ('fc1_weight', (10L, 12544L)),\n",
      " ('fc1_bias', (10L,)),\n",
      " ('fc1_output', (25L, 10L)),\n",
      " ('fc2_weight', (1L, 10L)),\n",
      " ('fc2_bias', (1L,)),\n",
      " ('fc2_output', (25L, 1L)),\n",
      " ('label', (25L, 1L)),\n",
      " ('_minus24_output', (25L, 1L)),\n",
      " ('_powerscalar24_output', (25L, 1L)),\n",
      " ('loss_output', (25L, 1L))]\n"
     ]
    },
    {
     "data": {
      "image/svg+xml": [
       "<?xml version=\"1.0\" encoding=\"UTF-8\" standalone=\"no\"?>\n",
       "<!DOCTYPE svg PUBLIC \"-//W3C//DTD SVG 1.1//EN\"\n",
       " \"http://www.w3.org/Graphics/SVG/1.1/DTD/svg11.dtd\">\n",
       "<!-- Generated by graphviz version 2.38.0 (20140413.2041)\n",
       " -->\n",
       "<!-- Title: plot Pages: 1 -->\n",
       "<svg width=\"214pt\" height=\"829pt\"\n",
       " viewBox=\"0.00 0.00 214.00 829.00\" xmlns=\"http://www.w3.org/2000/svg\" xmlns:xlink=\"http://www.w3.org/1999/xlink\">\n",
       "<g id=\"graph0\" class=\"graph\" transform=\"scale(1 1) rotate(0) translate(4 825)\">\n",
       "<title>plot</title>\n",
       "<polygon fill=\"white\" stroke=\"none\" points=\"-4,4 -4,-825 210,-825 210,4 -4,4\"/>\n",
       "<!-- data -->\n",
       "<g id=\"node1\" class=\"node\"><title>data</title>\n",
       "<ellipse fill=\"#8dd3c7\" stroke=\"black\" cx=\"47\" cy=\"-29\" rx=\"47\" ry=\"29\"/>\n",
       "<text text-anchor=\"middle\" x=\"47\" y=\"-25.3\" font-family=\"Times,serif\" font-size=\"14.00\">data</text>\n",
       "</g>\n",
       "<!-- conv1 -->\n",
       "<g id=\"node2\" class=\"node\"><title>conv1</title>\n",
       "<polygon fill=\"#fb8072\" stroke=\"black\" points=\"94,-167 -7.10543e-15,-167 -7.10543e-15,-109 94,-109 94,-167\"/>\n",
       "<text text-anchor=\"middle\" x=\"47\" y=\"-141.8\" font-family=\"Times,serif\" font-size=\"14.00\">Convolution</text>\n",
       "<text text-anchor=\"middle\" x=\"47\" y=\"-126.8\" font-family=\"Times,serif\" font-size=\"14.00\">3x3/1, 16</text>\n",
       "</g>\n",
       "<!-- conv1&#45;&gt;data -->\n",
       "<g id=\"edge1\" class=\"edge\"><title>conv1&#45;&gt;data</title>\n",
       "<path fill=\"none\" stroke=\"black\" d=\"M47,-98.5824C47,-85.2841 47,-70.632 47,-58.2967\"/>\n",
       "<polygon fill=\"black\" stroke=\"black\" points=\"47,-108.887 42.5001,-98.887 47,-103.887 47.0001,-98.887 47.0001,-98.887 47.0001,-98.887 47,-103.887 51.5001,-98.8871 47,-108.887 47,-108.887\"/>\n",
       "<text text-anchor=\"middle\" x=\"71\" y=\"-79.8\" font-family=\"Times,serif\" font-size=\"14.00\">3x28x28</text>\n",
       "</g>\n",
       "<!-- act1 -->\n",
       "<g id=\"node3\" class=\"node\"><title>act1</title>\n",
       "<polygon fill=\"#ffffb3\" stroke=\"black\" points=\"94,-276 -7.10543e-15,-276 -7.10543e-15,-218 94,-218 94,-276\"/>\n",
       "<text text-anchor=\"middle\" x=\"47\" y=\"-250.8\" font-family=\"Times,serif\" font-size=\"14.00\">Activation</text>\n",
       "<text text-anchor=\"middle\" x=\"47\" y=\"-235.8\" font-family=\"Times,serif\" font-size=\"14.00\">relu</text>\n",
       "</g>\n",
       "<!-- act1&#45;&gt;conv1 -->\n",
       "<g id=\"edge2\" class=\"edge\"><title>act1&#45;&gt;conv1</title>\n",
       "<path fill=\"none\" stroke=\"black\" d=\"M47,-207.582C47,-194.284 47,-179.632 47,-167.297\"/>\n",
       "<polygon fill=\"black\" stroke=\"black\" points=\"47,-217.887 42.5001,-207.887 47,-212.887 47.0001,-207.887 47.0001,-207.887 47.0001,-207.887 47,-212.887 51.5001,-207.887 47,-217.887 47,-217.887\"/>\n",
       "<text text-anchor=\"middle\" x=\"74.5\" y=\"-188.8\" font-family=\"Times,serif\" font-size=\"14.00\">16x28x28</text>\n",
       "</g>\n",
       "<!-- fc1 -->\n",
       "<g id=\"node4\" class=\"node\"><title>fc1</title>\n",
       "<polygon fill=\"#fb8072\" stroke=\"black\" points=\"94,-385 -7.10543e-15,-385 -7.10543e-15,-327 94,-327 94,-385\"/>\n",
       "<text text-anchor=\"middle\" x=\"47\" y=\"-359.8\" font-family=\"Times,serif\" font-size=\"14.00\">FullyConnected</text>\n",
       "<text text-anchor=\"middle\" x=\"47\" y=\"-344.8\" font-family=\"Times,serif\" font-size=\"14.00\">10</text>\n",
       "</g>\n",
       "<!-- fc1&#45;&gt;act1 -->\n",
       "<g id=\"edge3\" class=\"edge\"><title>fc1&#45;&gt;act1</title>\n",
       "<path fill=\"none\" stroke=\"black\" d=\"M47,-316.582C47,-303.284 47,-288.632 47,-276.297\"/>\n",
       "<polygon fill=\"black\" stroke=\"black\" points=\"47,-326.887 42.5001,-316.887 47,-321.887 47.0001,-316.887 47.0001,-316.887 47.0001,-316.887 47,-321.887 51.5001,-316.887 47,-326.887 47,-326.887\"/>\n",
       "<text text-anchor=\"middle\" x=\"74.5\" y=\"-297.8\" font-family=\"Times,serif\" font-size=\"14.00\">16x28x28</text>\n",
       "</g>\n",
       "<!-- fc2 -->\n",
       "<g id=\"node5\" class=\"node\"><title>fc2</title>\n",
       "<polygon fill=\"#fb8072\" stroke=\"black\" points=\"94,-494 -7.10543e-15,-494 -7.10543e-15,-436 94,-436 94,-494\"/>\n",
       "<text text-anchor=\"middle\" x=\"47\" y=\"-468.8\" font-family=\"Times,serif\" font-size=\"14.00\">FullyConnected</text>\n",
       "<text text-anchor=\"middle\" x=\"47\" y=\"-453.8\" font-family=\"Times,serif\" font-size=\"14.00\">1</text>\n",
       "</g>\n",
       "<!-- fc2&#45;&gt;fc1 -->\n",
       "<g id=\"edge4\" class=\"edge\"><title>fc2&#45;&gt;fc1</title>\n",
       "<path fill=\"none\" stroke=\"black\" d=\"M47,-425.582C47,-412.284 47,-397.632 47,-385.297\"/>\n",
       "<polygon fill=\"black\" stroke=\"black\" points=\"47,-435.887 42.5001,-425.887 47,-430.887 47.0001,-425.887 47.0001,-425.887 47.0001,-425.887 47,-430.887 51.5001,-425.887 47,-435.887 47,-435.887\"/>\n",
       "<text text-anchor=\"middle\" x=\"54\" y=\"-406.8\" font-family=\"Times,serif\" font-size=\"14.00\">10</text>\n",
       "</g>\n",
       "<!-- label -->\n",
       "<g id=\"node6\" class=\"node\"><title>label</title>\n",
       "<ellipse fill=\"#8dd3c7\" stroke=\"black\" cx=\"159\" cy=\"-465\" rx=\"47\" ry=\"29\"/>\n",
       "<text text-anchor=\"middle\" x=\"159\" y=\"-461.3\" font-family=\"Times,serif\" font-size=\"14.00\">label</text>\n",
       "</g>\n",
       "<!-- _minus24 -->\n",
       "<g id=\"node7\" class=\"node\"><title>_minus24</title>\n",
       "<polygon fill=\"#fccde5\" stroke=\"black\" points=\"178,-603 84,-603 84,-545 178,-545 178,-603\"/>\n",
       "<text text-anchor=\"middle\" x=\"131\" y=\"-570.3\" font-family=\"Times,serif\" font-size=\"14.00\">_minus24</text>\n",
       "</g>\n",
       "<!-- _minus24&#45;&gt;fc2 -->\n",
       "<g id=\"edge5\" class=\"edge\"><title>_minus24&#45;&gt;fc2</title>\n",
       "<path fill=\"none\" stroke=\"black\" d=\"M102.689,-536.937C91.7737,-523.033 79.4733,-507.365 69.2143,-494.297\"/>\n",
       "<polygon fill=\"black\" stroke=\"black\" points=\"108.93,-544.887 99.2154,-539.8 105.842,-540.954 102.755,-537.021 102.755,-537.021 102.755,-537.021 105.842,-540.954 106.295,-534.243 108.93,-544.887 108.93,-544.887\"/>\n",
       "<text text-anchor=\"middle\" x=\"98.5\" y=\"-515.8\" font-family=\"Times,serif\" font-size=\"14.00\">1</text>\n",
       "</g>\n",
       "<!-- _minus24&#45;&gt;label -->\n",
       "<g id=\"edge6\" class=\"edge\"><title>_minus24&#45;&gt;label</title>\n",
       "<path fill=\"none\" stroke=\"black\" d=\"M140.971,-534.896C144.508,-521.381 148.419,-506.434 151.692,-493.925\"/>\n",
       "<polygon fill=\"black\" stroke=\"black\" points=\"138.357,-544.887 136.535,-534.074 139.622,-540.05 140.888,-535.213 140.888,-535.213 140.888,-535.213 139.622,-540.05 145.242,-536.352 138.357,-544.887 138.357,-544.887\"/>\n",
       "<text text-anchor=\"middle\" x=\"149.5\" y=\"-515.8\" font-family=\"Times,serif\" font-size=\"14.00\">1</text>\n",
       "</g>\n",
       "<!-- _powerscalar24 -->\n",
       "<g id=\"node8\" class=\"node\"><title>_powerscalar24</title>\n",
       "<polygon fill=\"#fccde5\" stroke=\"black\" points=\"178,-712 84,-712 84,-654 178,-654 178,-712\"/>\n",
       "<text text-anchor=\"middle\" x=\"131\" y=\"-679.3\" font-family=\"Times,serif\" font-size=\"14.00\">_powerscalar24</text>\n",
       "</g>\n",
       "<!-- _powerscalar24&#45;&gt;_minus24 -->\n",
       "<g id=\"edge7\" class=\"edge\"><title>_powerscalar24&#45;&gt;_minus24</title>\n",
       "<path fill=\"none\" stroke=\"black\" d=\"M131,-643.582C131,-630.284 131,-615.632 131,-603.297\"/>\n",
       "<polygon fill=\"black\" stroke=\"black\" points=\"131,-653.887 126.5,-643.887 131,-648.887 131,-643.887 131,-643.887 131,-643.887 131,-648.887 135.5,-643.887 131,-653.887 131,-653.887\"/>\n",
       "<text text-anchor=\"middle\" x=\"134.5\" y=\"-624.8\" font-family=\"Times,serif\" font-size=\"14.00\">1</text>\n",
       "</g>\n",
       "<!-- loss -->\n",
       "<g id=\"node9\" class=\"node\"><title>loss</title>\n",
       "<polygon fill=\"#fccde5\" stroke=\"black\" points=\"178,-821 84,-821 84,-763 178,-763 178,-821\"/>\n",
       "<text text-anchor=\"middle\" x=\"131\" y=\"-788.3\" font-family=\"Times,serif\" font-size=\"14.00\">loss</text>\n",
       "</g>\n",
       "<!-- loss&#45;&gt;_powerscalar24 -->\n",
       "<g id=\"edge8\" class=\"edge\"><title>loss&#45;&gt;_powerscalar24</title>\n",
       "<path fill=\"none\" stroke=\"black\" d=\"M131,-752.582C131,-739.284 131,-724.632 131,-712.297\"/>\n",
       "<polygon fill=\"black\" stroke=\"black\" points=\"131,-762.887 126.5,-752.887 131,-757.887 131,-752.887 131,-752.887 131,-752.887 131,-757.887 135.5,-752.887 131,-762.887 131,-762.887\"/>\n",
       "<text text-anchor=\"middle\" x=\"134.5\" y=\"-733.8\" font-family=\"Times,serif\" font-size=\"14.00\">1</text>\n",
       "</g>\n",
       "</g>\n",
       "</svg>\n"
      ],
      "text/plain": [
       "<graphviz.dot.Digraph at 0x7fabd924cd90>"
      ]
     },
     "execution_count": 121,
     "metadata": {},
     "output_type": "execute_result"
    }
   ],
   "source": [
    "net = get_sym()\n",
    "data_shape_dict = {'data':(batch_size,3,28,28), 'label':(batch_size,1)}\n",
    "net_all = net.get_internals()\n",
    "arg_shape, out_shape, aux_shape = net_all.infer_shape(**data_shape_dict)\n",
    "pprint( zip(net_all.list_outputs(),out_shape))\n",
    "mx.viz.plot_network(net, shape= data_shape_dict)"
   ]
  },
  {
   "cell_type": "markdown",
   "metadata": {},
   "source": [
    "### try Costum Ops"
   ]
  },
  {
   "cell_type": "markdown",
   "metadata": {},
   "source": [
    "#####  using MakeLoss "
   ]
  },
  {
   "cell_type": "code",
   "execution_count": 112,
   "metadata": {
    "collapsed": false
   },
   "outputs": [],
   "source": [
    "ctx = mx.gpu(2)\n",
    "mod = mx.mod.Module(symbol = net, context = ctx, \n",
    "                    data_names =['data'], \n",
    "                    label_names = ['label'])"
   ]
  },
  {
   "cell_type": "code",
   "execution_count": 122,
   "metadata": {
    "collapsed": false,
    "scrolled": true
   },
   "outputs": [
    {
     "name": "stderr",
     "output_type": "stream",
     "text": [
      "WARNING:root:Already binded, ignoring bind()\n",
      "WARNING:root:optimizer already initialized, ignoring...\n",
      "INFO:root:Epoch[0] Train-mse=0.087479\n",
      "INFO:root:Epoch[0] Time cost=4.424\n",
      "INFO:root:Epoch[0] Validation-mse=0.088217\n",
      "INFO:root:Epoch[1] Train-mse=0.087927\n",
      "INFO:root:Epoch[1] Time cost=4.064\n",
      "INFO:root:Epoch[1] Validation-mse=0.088574\n",
      "INFO:root:Epoch[2] Train-mse=0.088335\n",
      "INFO:root:Epoch[2] Time cost=4.499\n",
      "INFO:root:Epoch[2] Validation-mse=0.088863\n",
      "INFO:root:Epoch[3] Train-mse=0.088679\n",
      "INFO:root:Epoch[3] Time cost=4.491\n",
      "INFO:root:Epoch[3] Validation-mse=0.089126\n",
      "INFO:root:Epoch[4] Train-mse=0.088963\n",
      "INFO:root:Epoch[4] Time cost=4.322\n",
      "INFO:root:Epoch[4] Validation-mse=0.089323\n"
     ]
    }
   ],
   "source": [
    "import logging \n",
    "logging.basicConfig(level=logging.INFO)\n",
    "mod.fit(train_data=train_iter2, \n",
    "        eval_data= val_iter2, \n",
    "        eval_metric= 'mse',\n",
    "        num_epoch=5)\n"
   ]
  },
  {
   "cell_type": "code",
   "execution_count": null,
   "metadata": {
    "collapsed": true
   },
   "outputs": [],
   "source": []
  },
  {
   "cell_type": "code",
   "execution_count": null,
   "metadata": {
    "collapsed": true
   },
   "outputs": [],
   "source": []
  },
  {
   "cell_type": "code",
   "execution_count": 19,
   "metadata": {
    "collapsed": true
   },
   "outputs": [],
   "source": [
    "?mx.sym.FullyConnected"
   ]
  },
  {
   "cell_type": "code",
   "execution_count": null,
   "metadata": {
    "collapsed": true
   },
   "outputs": [],
   "source": []
  }
 ],
 "metadata": {
  "kernelspec": {
   "display_name": "Python 2",
   "language": "python",
   "name": "python2"
  },
  "language_info": {
   "codemirror_mode": {
    "name": "ipython",
    "version": 2
   },
   "file_extension": ".py",
   "mimetype": "text/x-python",
   "name": "python",
   "nbconvert_exporter": "python",
   "pygments_lexer": "ipython2",
   "version": "2.7.12"
  }
 },
 "nbformat": 4,
 "nbformat_minor": 2
}
